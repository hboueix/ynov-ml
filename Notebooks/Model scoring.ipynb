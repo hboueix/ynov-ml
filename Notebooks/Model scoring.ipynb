{
 "metadata": {
  "language_info": {
   "codemirror_mode": {
    "name": "ipython",
    "version": 3
   },
   "file_extension": ".py",
   "mimetype": "text/x-python",
   "name": "python",
   "nbconvert_exporter": "python",
   "pygments_lexer": "ipython3",
   "version": "3.6.12"
  },
  "orig_nbformat": 2,
  "kernelspec": {
   "name": "python3",
   "display_name": "Python 3.6.12 64-bit ('ynovml_env': conda)",
   "metadata": {
    "interpreter": {
     "hash": "a884151e47e43cfee6b525c1a266196bf879c9e4bec648886b0b16efd01a909d"
    }
   }
  }
 },
 "nbformat": 4,
 "nbformat_minor": 2,
 "cells": [
  {
   "source": [
    "# MODEL SCORING"
   ],
   "cell_type": "markdown",
   "metadata": {}
  },
  {
   "cell_type": "code",
   "execution_count": 1,
   "metadata": {},
   "outputs": [],
   "source": [
    "import pandas as pd\n",
    "import numpy as np\n",
    "import pickle\n",
    "import matplotlib.pyplot as plt\n",
    "from sklearn.model_selection import train_test_split, cross_val_score\n",
    "from sklearn.metrics import mean_squared_log_error"
   ]
  },
  {
   "cell_type": "code",
   "execution_count": 2,
   "metadata": {},
   "outputs": [],
   "source": [
    "data_train = pd.read_csv('../Data/train.csv')\n",
    "data_test = pd.read_csv('../Data/test.csv')"
   ]
  },
  {
   "cell_type": "code",
   "execution_count": 3,
   "metadata": {},
   "outputs": [],
   "source": [
    "X, y = data_train.drop(columns=\"SalePrice\"), data_train[\"SalePrice\"].copy()\n",
    "X_train, X_valid, y_train, y_valid = train_test_split(X, y, train_size=0.75, test_size=0.25, random_state=42)\n",
    "X_test = data_test.copy()"
   ]
  },
  {
   "cell_type": "code",
   "execution_count": 4,
   "metadata": {},
   "outputs": [],
   "source": [
    "clf = pickle.load(open('./classifier.pkl', 'rb'))"
   ]
  },
  {
   "cell_type": "code",
   "execution_count": 5,
   "metadata": {},
   "outputs": [],
   "source": [
    "y_train_preds = clf.predict(X_train)\n",
    "y_valid_preds = clf.predict(X_valid)\n",
    "y_test_preds = clf.predict(X_test)"
   ]
  },
  {
   "cell_type": "code",
   "execution_count": 6,
   "metadata": {},
   "outputs": [
    {
     "output_type": "stream",
     "name": "stdout",
     "text": [
      "RMSLE train: 0.10687976211655942\nRMSLE valid: 0.18535264803692575\n"
     ]
    }
   ],
   "source": [
    "print('RMSLE train:', np.sqrt(mean_squared_log_error(y_train, y_train_preds)))\n",
    "print('RMSLE valid:', np.sqrt(mean_squared_log_error(y_valid, y_valid_preds)))"
   ]
  },
  {
   "cell_type": "code",
   "execution_count": 7,
   "metadata": {},
   "outputs": [
    {
     "output_type": "stream",
     "name": "stdout",
     "text": [
      "Average RMSLE score: 0.27329302454528576\n"
     ]
    }
   ],
   "source": [
    "scores = np.sqrt(-1 * cross_val_score(clf, X, y,\n",
    "                             cv=10,\n",
    "                             scoring='neg_mean_squared_log_error',\n",
    "                             error_score=-1))\n",
    "print('Average RMSLE score:', scores.mean())"
   ]
  },
  {
   "cell_type": "code",
   "execution_count": 8,
   "metadata": {},
   "outputs": [],
   "source": [
    "pd_csv = X_test[['Id']].copy()\n",
    "pd_csv['SalePrice'] = y_test_preds"
   ]
  },
  {
   "cell_type": "code",
   "execution_count": 9,
   "metadata": {},
   "outputs": [],
   "source": [
    "pd_csv.to_csv('submission_0.csv', index=False)"
   ]
  },
  {
   "cell_type": "code",
   "execution_count": null,
   "metadata": {},
   "outputs": [],
   "source": []
  }
 ]
}