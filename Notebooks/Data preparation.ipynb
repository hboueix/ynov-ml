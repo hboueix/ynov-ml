{
 "metadata": {
  "language_info": {
   "codemirror_mode": {
    "name": "ipython",
    "version": 3
   },
   "file_extension": ".py",
   "mimetype": "text/x-python",
   "name": "python",
   "nbconvert_exporter": "python",
   "pygments_lexer": "ipython3",
   "version": "3.6.12"
  },
  "orig_nbformat": 2,
  "kernelspec": {
   "name": "python3",
   "display_name": "Python 3.6.12 64-bit ('ynovml_env': conda)",
   "metadata": {
    "interpreter": {
     "hash": "a884151e47e43cfee6b525c1a266196bf879c9e4bec648886b0b16efd01a909d"
    }
   }
  }
 },
 "nbformat": 4,
 "nbformat_minor": 2,
 "cells": [
  {
   "source": [
    "# DATA PREPARATION"
   ],
   "cell_type": "markdown",
   "metadata": {}
  },
  {
   "cell_type": "code",
   "execution_count": 1,
   "metadata": {},
   "outputs": [],
   "source": [
    "import pandas as pd\n",
    "import numpy as np\n",
    "import pickle\n",
    "from sklearn.model_selection import train_test_split\n",
    "from sklearn.compose import ColumnTransformer\n",
    "from sklearn.pipeline import Pipeline\n",
    "from sklearn.impute import SimpleImputer\n",
    "from sklearn.preprocessing import StandardScaler, OneHotEncoder\n",
    "from sklearn.feature_selection import SelectorMixin"
   ]
  },
  {
   "cell_type": "code",
   "execution_count": 2,
   "metadata": {},
   "outputs": [],
   "source": [
    "data_train = pd.read_csv(\"../Data/train.csv\")\n",
    "data_test = pd.read_csv(\"../Data/test.csv\")"
   ]
  },
  {
   "cell_type": "code",
   "execution_count": 3,
   "metadata": {},
   "outputs": [],
   "source": [
    "X, y = data_train.drop(columns=\"SalePrice\"), data_train[\"SalePrice\"].copy()\n",
    "X_train, X_valid, y_train, y_valid = train_test_split(X, y, train_size=0.75, test_size=0.25, random_state=42)\n",
    "X_test = data_test.copy()"
   ]
  },
  {
   "cell_type": "code",
   "execution_count": 4,
   "metadata": {},
   "outputs": [],
   "source": [
    "numerical_cols = X_train.drop(columns='Id').select_dtypes(exclude='object').columns\n",
    "categorical_cols = X_train.select_dtypes(include='object').columns"
   ]
  },
  {
   "cell_type": "code",
   "execution_count": 5,
   "metadata": {},
   "outputs": [],
   "source": [
    "all_categories = []\n",
    "for col in categorical_cols:\n",
    "    all_categories.append(X_train[col].dropna().unique())"
   ]
  },
  {
   "cell_type": "code",
   "execution_count": 6,
   "metadata": {},
   "outputs": [],
   "source": [
    "# Preprocessing for numerical data\n",
    "numerical_transformer = Pipeline(steps=[\n",
    "    ('imputer', SimpleImputer(strategy='constant')),\n",
    "    ('scaler', StandardScaler())\n",
    "])\n",
    "\n",
    "# Preprocessing for categorical data\n",
    "categorical_transformer = Pipeline(steps=[\n",
    "    ('imputer', SimpleImputer(strategy='most_frequent')),\n",
    "    ('onehot', OneHotEncoder(categories='auto', handle_unknown='ignore'))\n",
    "])\n",
    "\n",
    "# Bundle preprocessing for numerical and categorical data\n",
    "preprocessor = ColumnTransformer(\n",
    "    transformers=[\n",
    "        ('num', numerical_transformer, numerical_cols),\n",
    "        ('cat', categorical_transformer, categorical_cols)\n",
    "        ],\n",
    "    remainder='passthrough'\n",
    "    )"
   ]
  },
  {
   "cell_type": "code",
   "execution_count": 7,
   "metadata": {},
   "outputs": [],
   "source": [
    "with open('./preprocessor.pkl', 'wb') as pkl_file:\n",
    "    pickle.dump(preprocessor, pkl_file)"
   ]
  },
  {
   "cell_type": "code",
   "execution_count": null,
   "metadata": {},
   "outputs": [],
   "source": []
  },
  {
   "cell_type": "code",
   "execution_count": null,
   "metadata": {},
   "outputs": [],
   "source": []
  },
  {
   "source": [
    "# Testing purposes"
   ],
   "cell_type": "markdown",
   "metadata": {}
  },
  {
   "cell_type": "code",
   "execution_count": 8,
   "metadata": {},
   "outputs": [],
   "source": [
    "X_train_prepared = preprocessor.fit_transform(X_train.drop(columns='Id'))\n",
    "X_valid_prepared = preprocessor.fit_transform(X_valid.drop(columns='Id'))\n",
    "X_test_prepared = preprocessor.fit_transform(X_test.drop(columns='Id'))"
   ]
  },
  {
   "cell_type": "code",
   "execution_count": 9,
   "metadata": {},
   "outputs": [],
   "source": [
    "def get_features_out(estimator, features_in):\n",
    "    if hasattr(estimator, 'get_feature_names'):\n",
    "        return estimator.get_feature_names(features_in)\n",
    "    elif isinstance(estimator, SelectorMixin):\n",
    "        return np.array(features_in)[estimator.get_support()]\n",
    "    else:\n",
    "        return features_in\n",
    "\n",
    "\n",
    "def get_ct_feature_names(ct):\n",
    "    output_features = []\n",
    "\n",
    "    for name, estimator, features in ct.transformers_:\n",
    "        if name != 'remainder':\n",
    "            if isinstance(estimator, Pipeline):\n",
    "                current_features = features\n",
    "                for step in estimator:\n",
    "                    current_features = get_features_out(step, current_features)\n",
    "                features_out = current_features\n",
    "            else:\n",
    "                features_out = get_features_out(estimator, features)\n",
    "            output_features.extend(features_out)\n",
    "\n",
    "        # elif estimator == 'passthrough':\n",
    "        #     print(name, estimator, features)\n",
    "            # output_features.extend(ct._feature_names_in(features))\n",
    "                \n",
    "    return output_features"
   ]
  },
  {
   "cell_type": "code",
   "execution_count": 10,
   "metadata": {},
   "outputs": [],
   "source": [
    "feature_names = get_ct_feature_names(preprocessor)"
   ]
  },
  {
   "cell_type": "code",
   "execution_count": 11,
   "metadata": {},
   "outputs": [
    {
     "output_type": "error",
     "ename": "ValueError",
     "evalue": "Column length mismatch: 270 vs. 284",
     "traceback": [
      "\u001b[0;31m---------------------------------------------------------------------------\u001b[0m",
      "\u001b[0;31mValueError\u001b[0m                                Traceback (most recent call last)",
      "\u001b[0;32m<ipython-input-11-d31dacb23770>\u001b[0m in \u001b[0;36m<module>\u001b[0;34m\u001b[0m\n\u001b[1;32m      4\u001b[0m     \u001b[0mX_test_prepared\u001b[0m \u001b[0;34m=\u001b[0m \u001b[0mpd\u001b[0m\u001b[0;34m.\u001b[0m\u001b[0mDataFrame\u001b[0m\u001b[0;34m(\u001b[0m\u001b[0mX_test_prepared\u001b[0m\u001b[0;34m,\u001b[0m \u001b[0mcolumns\u001b[0m\u001b[0;34m=\u001b[0m\u001b[0mfeature_names\u001b[0m\u001b[0;34m,\u001b[0m \u001b[0mindex\u001b[0m\u001b[0;34m=\u001b[0m\u001b[0mX_test\u001b[0m\u001b[0;34m[\u001b[0m\u001b[0;34m\"Id\"\u001b[0m\u001b[0;34m]\u001b[0m\u001b[0;34m)\u001b[0m\u001b[0;34m\u001b[0m\u001b[0;34m\u001b[0m\u001b[0m\n\u001b[1;32m      5\u001b[0m \u001b[0;32melse\u001b[0m\u001b[0;34m:\u001b[0m\u001b[0;34m\u001b[0m\u001b[0;34m\u001b[0m\u001b[0m\n\u001b[0;32m----> 6\u001b[0;31m     \u001b[0mX_train_prepared\u001b[0m \u001b[0;34m=\u001b[0m \u001b[0mpd\u001b[0m\u001b[0;34m.\u001b[0m\u001b[0mDataFrame\u001b[0m\u001b[0;34m.\u001b[0m\u001b[0msparse\u001b[0m\u001b[0;34m.\u001b[0m\u001b[0mfrom_spmatrix\u001b[0m\u001b[0;34m(\u001b[0m\u001b[0mX_train_prepared\u001b[0m\u001b[0;34m,\u001b[0m \u001b[0mcolumns\u001b[0m\u001b[0;34m=\u001b[0m\u001b[0mfeature_names\u001b[0m\u001b[0;34m,\u001b[0m \u001b[0mindex\u001b[0m\u001b[0;34m=\u001b[0m\u001b[0mX_train\u001b[0m\u001b[0;34m[\u001b[0m\u001b[0;34m\"Id\"\u001b[0m\u001b[0;34m]\u001b[0m\u001b[0;34m)\u001b[0m\u001b[0;34m\u001b[0m\u001b[0;34m\u001b[0m\u001b[0m\n\u001b[0m\u001b[1;32m      7\u001b[0m     \u001b[0mX_valid_prepared\u001b[0m \u001b[0;34m=\u001b[0m \u001b[0mpd\u001b[0m\u001b[0;34m.\u001b[0m\u001b[0mDataFrame\u001b[0m\u001b[0;34m.\u001b[0m\u001b[0msparse\u001b[0m\u001b[0;34m.\u001b[0m\u001b[0mfrom_spmatrix\u001b[0m\u001b[0;34m(\u001b[0m\u001b[0mX_valid_prepared\u001b[0m\u001b[0;34m,\u001b[0m \u001b[0mcolumns\u001b[0m\u001b[0;34m=\u001b[0m\u001b[0mfeature_names\u001b[0m\u001b[0;34m,\u001b[0m \u001b[0mindex\u001b[0m\u001b[0;34m=\u001b[0m\u001b[0mX_valid\u001b[0m\u001b[0;34m[\u001b[0m\u001b[0;34m\"Id\"\u001b[0m\u001b[0;34m]\u001b[0m\u001b[0;34m)\u001b[0m\u001b[0;34m\u001b[0m\u001b[0;34m\u001b[0m\u001b[0m\n\u001b[1;32m      8\u001b[0m     \u001b[0mX_test_prepared\u001b[0m \u001b[0;34m=\u001b[0m \u001b[0mpd\u001b[0m\u001b[0;34m.\u001b[0m\u001b[0mDataFrame\u001b[0m\u001b[0;34m.\u001b[0m\u001b[0msparse\u001b[0m\u001b[0;34m.\u001b[0m\u001b[0mfrom_spmatrix\u001b[0m\u001b[0;34m(\u001b[0m\u001b[0mX_test_prepared\u001b[0m\u001b[0;34m,\u001b[0m \u001b[0mcolumns\u001b[0m\u001b[0;34m=\u001b[0m\u001b[0mfeature_names\u001b[0m\u001b[0;34m,\u001b[0m \u001b[0mindex\u001b[0m\u001b[0;34m=\u001b[0m\u001b[0mX_test\u001b[0m\u001b[0;34m[\u001b[0m\u001b[0;34m\"Id\"\u001b[0m\u001b[0;34m]\u001b[0m\u001b[0;34m)\u001b[0m\u001b[0;34m\u001b[0m\u001b[0;34m\u001b[0m\u001b[0m\n",
      "\u001b[0;32m~/anaconda3/envs/ynovml_env/lib/python3.6/site-packages/pandas/core/arrays/sparse/accessor.py\u001b[0m in \u001b[0;36mfrom_spmatrix\u001b[0;34m(cls, data, index, columns)\u001b[0m\n\u001b[1;32m    259\u001b[0m \u001b[0;34m\u001b[0m\u001b[0m\n\u001b[1;32m    260\u001b[0m         \u001b[0mdata\u001b[0m \u001b[0;34m=\u001b[0m \u001b[0mdata\u001b[0m\u001b[0;34m.\u001b[0m\u001b[0mtocsc\u001b[0m\u001b[0;34m(\u001b[0m\u001b[0;34m)\u001b[0m\u001b[0;34m\u001b[0m\u001b[0;34m\u001b[0m\u001b[0m\n\u001b[0;32m--> 261\u001b[0;31m         \u001b[0mindex\u001b[0m\u001b[0;34m,\u001b[0m \u001b[0mcolumns\u001b[0m \u001b[0;34m=\u001b[0m \u001b[0mcls\u001b[0m\u001b[0;34m.\u001b[0m\u001b[0m_prep_index\u001b[0m\u001b[0;34m(\u001b[0m\u001b[0mdata\u001b[0m\u001b[0;34m,\u001b[0m \u001b[0mindex\u001b[0m\u001b[0;34m,\u001b[0m \u001b[0mcolumns\u001b[0m\u001b[0;34m)\u001b[0m\u001b[0;34m\u001b[0m\u001b[0;34m\u001b[0m\u001b[0m\n\u001b[0m\u001b[1;32m    262\u001b[0m         \u001b[0mn_rows\u001b[0m\u001b[0;34m,\u001b[0m \u001b[0mn_columns\u001b[0m \u001b[0;34m=\u001b[0m \u001b[0mdata\u001b[0m\u001b[0;34m.\u001b[0m\u001b[0mshape\u001b[0m\u001b[0;34m\u001b[0m\u001b[0;34m\u001b[0m\u001b[0m\n\u001b[1;32m    263\u001b[0m         \u001b[0;31m# We need to make sure indices are sorted, as we create\u001b[0m\u001b[0;34m\u001b[0m\u001b[0;34m\u001b[0m\u001b[0;34m\u001b[0m\u001b[0m\n",
      "\u001b[0;32m~/anaconda3/envs/ynovml_env/lib/python3.6/site-packages/pandas/core/arrays/sparse/accessor.py\u001b[0m in \u001b[0;36m_prep_index\u001b[0;34m(data, index, columns)\u001b[0m\n\u001b[1;32m    370\u001b[0m \u001b[0;34m\u001b[0m\u001b[0m\n\u001b[1;32m    371\u001b[0m         \u001b[0;32mif\u001b[0m \u001b[0mlen\u001b[0m\u001b[0;34m(\u001b[0m\u001b[0mcolumns\u001b[0m\u001b[0;34m)\u001b[0m \u001b[0;34m!=\u001b[0m \u001b[0mK\u001b[0m\u001b[0;34m:\u001b[0m\u001b[0;34m\u001b[0m\u001b[0;34m\u001b[0m\u001b[0m\n\u001b[0;32m--> 372\u001b[0;31m             \u001b[0;32mraise\u001b[0m \u001b[0mValueError\u001b[0m\u001b[0;34m(\u001b[0m\u001b[0;34mf\"Column length mismatch: {len(columns)} vs. {K}\"\u001b[0m\u001b[0;34m)\u001b[0m\u001b[0;34m\u001b[0m\u001b[0;34m\u001b[0m\u001b[0m\n\u001b[0m\u001b[1;32m    373\u001b[0m         \u001b[0;32mif\u001b[0m \u001b[0mlen\u001b[0m\u001b[0;34m(\u001b[0m\u001b[0mindex\u001b[0m\u001b[0;34m)\u001b[0m \u001b[0;34m!=\u001b[0m \u001b[0mN\u001b[0m\u001b[0;34m:\u001b[0m\u001b[0;34m\u001b[0m\u001b[0;34m\u001b[0m\u001b[0m\n\u001b[1;32m    374\u001b[0m             \u001b[0;32mraise\u001b[0m \u001b[0mValueError\u001b[0m\u001b[0;34m(\u001b[0m\u001b[0;34mf\"Index length mismatch: {len(index)} vs. {N}\"\u001b[0m\u001b[0;34m)\u001b[0m\u001b[0;34m\u001b[0m\u001b[0;34m\u001b[0m\u001b[0m\n",
      "\u001b[0;31mValueError\u001b[0m: Column length mismatch: 270 vs. 284"
     ]
    }
   ],
   "source": [
    "if isinstance(X_train_prepared, np.ndarray):\n",
    "    X_train_prepared = pd.DataFrame(X_train_prepared, columns=feature_names, index=X_train[\"Id\"])\n",
    "    X_valid_prepared = pd.DataFrame(X_valid_prepared, columns=feature_names, index=X_valid[\"Id\"])\n",
    "    X_test_prepared = pd.DataFrame(X_test_prepared, columns=feature_names, index=X_test[\"Id\"])\n",
    "else:\n",
    "    X_train_prepared = pd.DataFrame.sparse.from_spmatrix(X_train_prepared, columns=feature_names, index=X_train[\"Id\"])\n",
    "    X_valid_prepared = pd.DataFrame.sparse.from_spmatrix(X_valid_prepared, columns=feature_names, index=X_valid[\"Id\"])\n",
    "    X_test_prepared = pd.DataFrame.sparse.from_spmatrix(X_test_prepared, columns=feature_names, index=X_test[\"Id\"])"
   ]
  },
  {
   "cell_type": "code",
   "execution_count": 71,
   "metadata": {},
   "outputs": [
    {
     "output_type": "execute_result",
     "data": {
      "text/plain": [
       "      MSSubClass  LotFrontage   LotArea  OverallQual  OverallCond  YearBuilt  \\\n",
       "Id                                                                             \n",
       "1024    1.475911    -0.409689 -0.683950     0.637073    -0.515364   1.107889   \n",
       "811    -0.871228     0.576699 -0.054883    -0.094926     0.390453   0.094543   \n",
       "1385   -0.167086     0.069414 -0.152524    -0.094926    -0.515364  -1.049557   \n",
       "627    -0.871228    -1.621537  0.144198    -0.826925    -0.515364  -0.363097   \n",
       "814    -0.871228     0.492152 -0.090142    -0.094926     0.390453  -0.428474   \n",
       "...          ...          ...       ...          ...          ...        ...   \n",
       "1096   -0.871228     0.576699 -0.129289    -0.094926    -0.515364   1.140578   \n",
       "1131   -0.167086     0.210326 -0.266078    -1.558925    -2.326999  -1.409132   \n",
       "1295   -0.871228     0.069414 -0.232808    -0.826925     1.296270  -0.526540   \n",
       "861    -0.167086    -0.071499 -0.280725     0.637073     2.202087  -1.736018   \n",
       "1127    1.475911    -0.127864 -0.638564     0.637073    -0.515364   1.173266   \n",
       "\n",
       "      YearRemodAdd  MasVnrArea  BsmtFinSF1  BsmtFinSF2  ...  SaleType_Con  \\\n",
       "Id                                                      ...                 \n",
       "1024      1.020374   -0.519303   -0.944261   -0.284678  ...           0.0   \n",
       "811       0.682585   -0.023289    0.469362    2.166141  ...           0.0   \n",
       "1385     -1.681937   -0.601000   -0.533502   -0.284678  ...           0.0   \n",
       "627      -0.330782   -0.601000   -0.979219   -0.284678  ...           0.0   \n",
       "814      -1.295893    0.817019    0.349193   -0.284678  ...           0.0   \n",
       "...            ...         ...         ...         ...  ...           ...   \n",
       "1096      1.020374   -0.601000   -0.926782   -0.284678  ...           0.0   \n",
       "1131     -1.681937   -0.601000    0.379781   -0.284678  ...           0.0   \n",
       "1295      0.248285   -0.601000   -0.614343   -0.284678  ...           0.0   \n",
       "861       0.634329   -0.601000   -0.979219   -0.284678  ...           0.0   \n",
       "1127      1.068629    0.157611   -0.979219   -0.284678  ...           0.0   \n",
       "\n",
       "      SaleType_ConLD  SaleType_CWD  SaleType_Oth  SaleCondition_Normal  \\\n",
       "Id                                                                       \n",
       "1024             0.0           0.0           0.0                   1.0   \n",
       "811              0.0           0.0           0.0                   1.0   \n",
       "1385             0.0           0.0           0.0                   1.0   \n",
       "627              0.0           0.0           0.0                   1.0   \n",
       "814              0.0           0.0           0.0                   1.0   \n",
       "...              ...           ...           ...                   ...   \n",
       "1096             0.0           0.0           0.0                   1.0   \n",
       "1131             0.0           0.0           0.0                   1.0   \n",
       "1295             0.0           0.0           0.0                   1.0   \n",
       "861              0.0           0.0           0.0                   1.0   \n",
       "1127             0.0           0.0           0.0                   1.0   \n",
       "\n",
       "      SaleCondition_Abnorml  SaleCondition_Partial  SaleCondition_Family  \\\n",
       "Id                                                                         \n",
       "1024                    0.0                    0.0                   0.0   \n",
       "811                     0.0                    0.0                   0.0   \n",
       "1385                    0.0                    0.0                   0.0   \n",
       "627                     0.0                    0.0                   0.0   \n",
       "814                     0.0                    0.0                   0.0   \n",
       "...                     ...                    ...                   ...   \n",
       "1096                    0.0                    0.0                   0.0   \n",
       "1131                    0.0                    0.0                   0.0   \n",
       "1295                    0.0                    0.0                   0.0   \n",
       "861                     0.0                    0.0                   0.0   \n",
       "1127                    0.0                    0.0                   0.0   \n",
       "\n",
       "      SaleCondition_AdjLand  SaleCondition_Alloca  \n",
       "Id                                                 \n",
       "1024                    0.0                   0.0  \n",
       "811                     0.0                   0.0  \n",
       "1385                    0.0                   0.0  \n",
       "627                     0.0                   0.0  \n",
       "814                     0.0                   0.0  \n",
       "...                     ...                   ...  \n",
       "1096                    0.0                   0.0  \n",
       "1131                    0.0                   0.0  \n",
       "1295                    0.0                   0.0  \n",
       "861                     0.0                   0.0  \n",
       "1127                    0.0                   0.0  \n",
       "\n",
       "[1095 rows x 284 columns]"
      ],
      "text/html": "<div>\n<style scoped>\n    .dataframe tbody tr th:only-of-type {\n        vertical-align: middle;\n    }\n\n    .dataframe tbody tr th {\n        vertical-align: top;\n    }\n\n    .dataframe thead th {\n        text-align: right;\n    }\n</style>\n<table border=\"1\" class=\"dataframe\">\n  <thead>\n    <tr style=\"text-align: right;\">\n      <th></th>\n      <th>MSSubClass</th>\n      <th>LotFrontage</th>\n      <th>LotArea</th>\n      <th>OverallQual</th>\n      <th>OverallCond</th>\n      <th>YearBuilt</th>\n      <th>YearRemodAdd</th>\n      <th>MasVnrArea</th>\n      <th>BsmtFinSF1</th>\n      <th>BsmtFinSF2</th>\n      <th>...</th>\n      <th>SaleType_Con</th>\n      <th>SaleType_ConLD</th>\n      <th>SaleType_CWD</th>\n      <th>SaleType_Oth</th>\n      <th>SaleCondition_Normal</th>\n      <th>SaleCondition_Abnorml</th>\n      <th>SaleCondition_Partial</th>\n      <th>SaleCondition_Family</th>\n      <th>SaleCondition_AdjLand</th>\n      <th>SaleCondition_Alloca</th>\n    </tr>\n    <tr>\n      <th>Id</th>\n      <th></th>\n      <th></th>\n      <th></th>\n      <th></th>\n      <th></th>\n      <th></th>\n      <th></th>\n      <th></th>\n      <th></th>\n      <th></th>\n      <th></th>\n      <th></th>\n      <th></th>\n      <th></th>\n      <th></th>\n      <th></th>\n      <th></th>\n      <th></th>\n      <th></th>\n      <th></th>\n      <th></th>\n    </tr>\n  </thead>\n  <tbody>\n    <tr>\n      <th>1024</th>\n      <td>1.475911</td>\n      <td>-0.409689</td>\n      <td>-0.683950</td>\n      <td>0.637073</td>\n      <td>-0.515364</td>\n      <td>1.107889</td>\n      <td>1.020374</td>\n      <td>-0.519303</td>\n      <td>-0.944261</td>\n      <td>-0.284678</td>\n      <td>...</td>\n      <td>0.0</td>\n      <td>0.0</td>\n      <td>0.0</td>\n      <td>0.0</td>\n      <td>1.0</td>\n      <td>0.0</td>\n      <td>0.0</td>\n      <td>0.0</td>\n      <td>0.0</td>\n      <td>0.0</td>\n    </tr>\n    <tr>\n      <th>811</th>\n      <td>-0.871228</td>\n      <td>0.576699</td>\n      <td>-0.054883</td>\n      <td>-0.094926</td>\n      <td>0.390453</td>\n      <td>0.094543</td>\n      <td>0.682585</td>\n      <td>-0.023289</td>\n      <td>0.469362</td>\n      <td>2.166141</td>\n      <td>...</td>\n      <td>0.0</td>\n      <td>0.0</td>\n      <td>0.0</td>\n      <td>0.0</td>\n      <td>1.0</td>\n      <td>0.0</td>\n      <td>0.0</td>\n      <td>0.0</td>\n      <td>0.0</td>\n      <td>0.0</td>\n    </tr>\n    <tr>\n      <th>1385</th>\n      <td>-0.167086</td>\n      <td>0.069414</td>\n      <td>-0.152524</td>\n      <td>-0.094926</td>\n      <td>-0.515364</td>\n      <td>-1.049557</td>\n      <td>-1.681937</td>\n      <td>-0.601000</td>\n      <td>-0.533502</td>\n      <td>-0.284678</td>\n      <td>...</td>\n      <td>0.0</td>\n      <td>0.0</td>\n      <td>0.0</td>\n      <td>0.0</td>\n      <td>1.0</td>\n      <td>0.0</td>\n      <td>0.0</td>\n      <td>0.0</td>\n      <td>0.0</td>\n      <td>0.0</td>\n    </tr>\n    <tr>\n      <th>627</th>\n      <td>-0.871228</td>\n      <td>-1.621537</td>\n      <td>0.144198</td>\n      <td>-0.826925</td>\n      <td>-0.515364</td>\n      <td>-0.363097</td>\n      <td>-0.330782</td>\n      <td>-0.601000</td>\n      <td>-0.979219</td>\n      <td>-0.284678</td>\n      <td>...</td>\n      <td>0.0</td>\n      <td>0.0</td>\n      <td>0.0</td>\n      <td>0.0</td>\n      <td>1.0</td>\n      <td>0.0</td>\n      <td>0.0</td>\n      <td>0.0</td>\n      <td>0.0</td>\n      <td>0.0</td>\n    </tr>\n    <tr>\n      <th>814</th>\n      <td>-0.871228</td>\n      <td>0.492152</td>\n      <td>-0.090142</td>\n      <td>-0.094926</td>\n      <td>0.390453</td>\n      <td>-0.428474</td>\n      <td>-1.295893</td>\n      <td>0.817019</td>\n      <td>0.349193</td>\n      <td>-0.284678</td>\n      <td>...</td>\n      <td>0.0</td>\n      <td>0.0</td>\n      <td>0.0</td>\n      <td>0.0</td>\n      <td>1.0</td>\n      <td>0.0</td>\n      <td>0.0</td>\n      <td>0.0</td>\n      <td>0.0</td>\n      <td>0.0</td>\n    </tr>\n    <tr>\n      <th>...</th>\n      <td>...</td>\n      <td>...</td>\n      <td>...</td>\n      <td>...</td>\n      <td>...</td>\n      <td>...</td>\n      <td>...</td>\n      <td>...</td>\n      <td>...</td>\n      <td>...</td>\n      <td>...</td>\n      <td>...</td>\n      <td>...</td>\n      <td>...</td>\n      <td>...</td>\n      <td>...</td>\n      <td>...</td>\n      <td>...</td>\n      <td>...</td>\n      <td>...</td>\n      <td>...</td>\n    </tr>\n    <tr>\n      <th>1096</th>\n      <td>-0.871228</td>\n      <td>0.576699</td>\n      <td>-0.129289</td>\n      <td>-0.094926</td>\n      <td>-0.515364</td>\n      <td>1.140578</td>\n      <td>1.020374</td>\n      <td>-0.601000</td>\n      <td>-0.926782</td>\n      <td>-0.284678</td>\n      <td>...</td>\n      <td>0.0</td>\n      <td>0.0</td>\n      <td>0.0</td>\n      <td>0.0</td>\n      <td>1.0</td>\n      <td>0.0</td>\n      <td>0.0</td>\n      <td>0.0</td>\n      <td>0.0</td>\n      <td>0.0</td>\n    </tr>\n    <tr>\n      <th>1131</th>\n      <td>-0.167086</td>\n      <td>0.210326</td>\n      <td>-0.266078</td>\n      <td>-1.558925</td>\n      <td>-2.326999</td>\n      <td>-1.409132</td>\n      <td>-1.681937</td>\n      <td>-0.601000</td>\n      <td>0.379781</td>\n      <td>-0.284678</td>\n      <td>...</td>\n      <td>0.0</td>\n      <td>0.0</td>\n      <td>0.0</td>\n      <td>0.0</td>\n      <td>1.0</td>\n      <td>0.0</td>\n      <td>0.0</td>\n      <td>0.0</td>\n      <td>0.0</td>\n      <td>0.0</td>\n    </tr>\n    <tr>\n      <th>1295</th>\n      <td>-0.871228</td>\n      <td>0.069414</td>\n      <td>-0.232808</td>\n      <td>-0.826925</td>\n      <td>1.296270</td>\n      <td>-0.526540</td>\n      <td>0.248285</td>\n      <td>-0.601000</td>\n      <td>-0.614343</td>\n      <td>-0.284678</td>\n      <td>...</td>\n      <td>0.0</td>\n      <td>0.0</td>\n      <td>0.0</td>\n      <td>0.0</td>\n      <td>1.0</td>\n      <td>0.0</td>\n      <td>0.0</td>\n      <td>0.0</td>\n      <td>0.0</td>\n      <td>0.0</td>\n    </tr>\n    <tr>\n      <th>861</th>\n      <td>-0.167086</td>\n      <td>-0.071499</td>\n      <td>-0.280725</td>\n      <td>0.637073</td>\n      <td>2.202087</td>\n      <td>-1.736018</td>\n      <td>0.634329</td>\n      <td>-0.601000</td>\n      <td>-0.979219</td>\n      <td>-0.284678</td>\n      <td>...</td>\n      <td>0.0</td>\n      <td>0.0</td>\n      <td>0.0</td>\n      <td>0.0</td>\n      <td>1.0</td>\n      <td>0.0</td>\n      <td>0.0</td>\n      <td>0.0</td>\n      <td>0.0</td>\n      <td>0.0</td>\n    </tr>\n    <tr>\n      <th>1127</th>\n      <td>1.475911</td>\n      <td>-0.127864</td>\n      <td>-0.638564</td>\n      <td>0.637073</td>\n      <td>-0.515364</td>\n      <td>1.173266</td>\n      <td>1.068629</td>\n      <td>0.157611</td>\n      <td>-0.979219</td>\n      <td>-0.284678</td>\n      <td>...</td>\n      <td>0.0</td>\n      <td>0.0</td>\n      <td>0.0</td>\n      <td>0.0</td>\n      <td>1.0</td>\n      <td>0.0</td>\n      <td>0.0</td>\n      <td>0.0</td>\n      <td>0.0</td>\n      <td>0.0</td>\n    </tr>\n  </tbody>\n</table>\n<p>1095 rows × 284 columns</p>\n</div>"
     },
     "metadata": {},
     "execution_count": 71
    }
   ],
   "source": [
    "X_train_prepared"
   ]
  },
  {
   "cell_type": "code",
   "execution_count": 72,
   "metadata": {},
   "outputs": [],
   "source": [
    "X_train_prepared.to_csv('X_train_prepared.csv')\n",
    "X_valid_prepared.to_csv('X_valid_prepared.csv')\n",
    "X_test_prepared.to_csv('X_test_prepared.csv')"
   ]
  },
  {
   "cell_type": "code",
   "execution_count": null,
   "metadata": {},
   "outputs": [],
   "source": []
  }
 ]
}